{
 "cells": [
  {
   "cell_type": "markdown",
   "metadata": {},
   "source": [
    "### Building a Recommender system with Surprise\n",
    "\n",
    "This try-it focuses on exploring additional algorithms with the `Suprise` library to generate recommendations.  Your goal is to identify the optimal algorithm by minimizing the mean squared error using cross validation. You are also going to select a dataset to use from [grouplens](https://grouplens.org/datasets/movielens/) example datasets.  \n",
    "\n",
    "To begin, head over to grouplens and examine the different datasets available.  Choose one so that it is easy to create the data as expected in `Surprise` with user, item, and rating information.  Then, compare the performance of at least the `KNNBasic`, `SVD`, `NMF`, `SlopeOne`, and `CoClustering` algorithms to build your recommendations.  For more information on the algorithms see the documentation for the algorithm package [here](https://surprise.readthedocs.io/en/stable/prediction_algorithms_package.html).\n",
    "\n",
    "Share the results of your investigation and include the results of your cross validation and a basic description of your dataset with your peers.\n",
    "\n"
   ]
  },
  {
   "cell_type": "code",
   "execution_count": 89,
   "metadata": {},
   "outputs": [],
   "source": [
    "from surprise import Dataset, Reader, SVD, NMF, KNNBasic, KNNWithMeans, KNNWithZScore, SlopeOne, CoClustering, NormalPredictor\n",
    "from surprise.model_selection import cross_validate\n",
    "\n",
    "import pandas as pd\n",
    "import numpy as np\n",
    "\n",
    "# Import libraries\n",
    "import matplotlib.pyplot as plt\n",
    "import seaborn as sns"
   ]
  },
  {
   "cell_type": "code",
   "execution_count": 5,
   "metadata": {},
   "outputs": [],
   "source": [
    "df = pd.read_csv('ml-25m/ratings.csv')"
   ]
  },
  {
   "cell_type": "markdown",
   "metadata": {},
   "source": [
    "https://grouplens.org/datasets/movielens/25m/\n",
    "\n",
    "MovieLens 25M movie ratings. Stable benchmark dataset. 25 million ratings and one million tag applications applied to 62,000 movies by 162,000 users. Includes tag genome data with 15 million relevance scores across 1,129 tags. Released 12/2019"
   ]
  },
  {
   "cell_type": "code",
   "execution_count": 6,
   "metadata": {},
   "outputs": [
    {
     "data": {
      "text/html": [
       "<div>\n",
       "<style scoped>\n",
       "    .dataframe tbody tr th:only-of-type {\n",
       "        vertical-align: middle;\n",
       "    }\n",
       "\n",
       "    .dataframe tbody tr th {\n",
       "        vertical-align: top;\n",
       "    }\n",
       "\n",
       "    .dataframe thead th {\n",
       "        text-align: right;\n",
       "    }\n",
       "</style>\n",
       "<table border=\"1\" class=\"dataframe\">\n",
       "  <thead>\n",
       "    <tr style=\"text-align: right;\">\n",
       "      <th></th>\n",
       "      <th>userId</th>\n",
       "      <th>movieId</th>\n",
       "      <th>rating</th>\n",
       "      <th>timestamp</th>\n",
       "    </tr>\n",
       "  </thead>\n",
       "  <tbody>\n",
       "    <tr>\n",
       "      <th>0</th>\n",
       "      <td>1</td>\n",
       "      <td>296</td>\n",
       "      <td>5.0</td>\n",
       "      <td>1147880044</td>\n",
       "    </tr>\n",
       "    <tr>\n",
       "      <th>1</th>\n",
       "      <td>1</td>\n",
       "      <td>306</td>\n",
       "      <td>3.5</td>\n",
       "      <td>1147868817</td>\n",
       "    </tr>\n",
       "    <tr>\n",
       "      <th>2</th>\n",
       "      <td>1</td>\n",
       "      <td>307</td>\n",
       "      <td>5.0</td>\n",
       "      <td>1147868828</td>\n",
       "    </tr>\n",
       "    <tr>\n",
       "      <th>3</th>\n",
       "      <td>1</td>\n",
       "      <td>665</td>\n",
       "      <td>5.0</td>\n",
       "      <td>1147878820</td>\n",
       "    </tr>\n",
       "    <tr>\n",
       "      <th>4</th>\n",
       "      <td>1</td>\n",
       "      <td>899</td>\n",
       "      <td>3.5</td>\n",
       "      <td>1147868510</td>\n",
       "    </tr>\n",
       "    <tr>\n",
       "      <th>5</th>\n",
       "      <td>1</td>\n",
       "      <td>1088</td>\n",
       "      <td>4.0</td>\n",
       "      <td>1147868495</td>\n",
       "    </tr>\n",
       "    <tr>\n",
       "      <th>6</th>\n",
       "      <td>1</td>\n",
       "      <td>1175</td>\n",
       "      <td>3.5</td>\n",
       "      <td>1147868826</td>\n",
       "    </tr>\n",
       "    <tr>\n",
       "      <th>7</th>\n",
       "      <td>1</td>\n",
       "      <td>1217</td>\n",
       "      <td>3.5</td>\n",
       "      <td>1147878326</td>\n",
       "    </tr>\n",
       "    <tr>\n",
       "      <th>8</th>\n",
       "      <td>1</td>\n",
       "      <td>1237</td>\n",
       "      <td>5.0</td>\n",
       "      <td>1147868839</td>\n",
       "    </tr>\n",
       "    <tr>\n",
       "      <th>9</th>\n",
       "      <td>1</td>\n",
       "      <td>1250</td>\n",
       "      <td>4.0</td>\n",
       "      <td>1147868414</td>\n",
       "    </tr>\n",
       "  </tbody>\n",
       "</table>\n",
       "</div>"
      ],
      "text/plain": [
       "   userId  movieId  rating   timestamp\n",
       "0       1      296     5.0  1147880044\n",
       "1       1      306     3.5  1147868817\n",
       "2       1      307     5.0  1147868828\n",
       "3       1      665     5.0  1147878820\n",
       "4       1      899     3.5  1147868510\n",
       "5       1     1088     4.0  1147868495\n",
       "6       1     1175     3.5  1147868826\n",
       "7       1     1217     3.5  1147878326\n",
       "8       1     1237     5.0  1147868839\n",
       "9       1     1250     4.0  1147868414"
      ]
     },
     "execution_count": 6,
     "metadata": {},
     "output_type": "execute_result"
    }
   ],
   "source": [
    "df.head(10)"
   ]
  },
  {
   "cell_type": "code",
   "execution_count": 8,
   "metadata": {},
   "outputs": [
    {
     "data": {
      "text/html": [
       "<div>\n",
       "<style scoped>\n",
       "    .dataframe tbody tr th:only-of-type {\n",
       "        vertical-align: middle;\n",
       "    }\n",
       "\n",
       "    .dataframe tbody tr th {\n",
       "        vertical-align: top;\n",
       "    }\n",
       "\n",
       "    .dataframe thead th {\n",
       "        text-align: right;\n",
       "    }\n",
       "</style>\n",
       "<table border=\"1\" class=\"dataframe\">\n",
       "  <thead>\n",
       "    <tr style=\"text-align: right;\">\n",
       "      <th></th>\n",
       "      <th>userId</th>\n",
       "      <th>movieId</th>\n",
       "      <th>rating</th>\n",
       "      <th>timestamp</th>\n",
       "    </tr>\n",
       "  </thead>\n",
       "  <tbody>\n",
       "    <tr>\n",
       "      <th>0</th>\n",
       "      <td>1</td>\n",
       "      <td>296</td>\n",
       "      <td>5.0</td>\n",
       "      <td>1147880044</td>\n",
       "    </tr>\n",
       "    <tr>\n",
       "      <th>264</th>\n",
       "      <td>3</td>\n",
       "      <td>296</td>\n",
       "      <td>5.0</td>\n",
       "      <td>1439474476</td>\n",
       "    </tr>\n",
       "    <tr>\n",
       "      <th>912</th>\n",
       "      <td>4</td>\n",
       "      <td>296</td>\n",
       "      <td>4.0</td>\n",
       "      <td>1573938898</td>\n",
       "    </tr>\n",
       "    <tr>\n",
       "      <th>1184</th>\n",
       "      <td>5</td>\n",
       "      <td>296</td>\n",
       "      <td>4.0</td>\n",
       "      <td>830786155</td>\n",
       "    </tr>\n",
       "    <tr>\n",
       "      <th>1290</th>\n",
       "      <td>7</td>\n",
       "      <td>296</td>\n",
       "      <td>4.0</td>\n",
       "      <td>835444730</td>\n",
       "    </tr>\n",
       "    <tr>\n",
       "      <th>...</th>\n",
       "      <td>...</td>\n",
       "      <td>...</td>\n",
       "      <td>...</td>\n",
       "      <td>...</td>\n",
       "    </tr>\n",
       "    <tr>\n",
       "      <th>24998549</th>\n",
       "      <td>162533</td>\n",
       "      <td>296</td>\n",
       "      <td>5.0</td>\n",
       "      <td>1280834123</td>\n",
       "    </tr>\n",
       "    <tr>\n",
       "      <th>24998905</th>\n",
       "      <td>162534</td>\n",
       "      <td>296</td>\n",
       "      <td>4.5</td>\n",
       "      <td>1526666265</td>\n",
       "    </tr>\n",
       "    <tr>\n",
       "      <th>24999445</th>\n",
       "      <td>162536</td>\n",
       "      <td>296</td>\n",
       "      <td>5.0</td>\n",
       "      <td>1572257729</td>\n",
       "    </tr>\n",
       "    <tr>\n",
       "      <th>24999632</th>\n",
       "      <td>162538</td>\n",
       "      <td>296</td>\n",
       "      <td>2.5</td>\n",
       "      <td>1438781382</td>\n",
       "    </tr>\n",
       "    <tr>\n",
       "      <th>24999926</th>\n",
       "      <td>162541</td>\n",
       "      <td>296</td>\n",
       "      <td>3.5</td>\n",
       "      <td>1240953510</td>\n",
       "    </tr>\n",
       "  </tbody>\n",
       "</table>\n",
       "<p>79672 rows × 4 columns</p>\n",
       "</div>"
      ],
      "text/plain": [
       "          userId  movieId  rating   timestamp\n",
       "0              1      296     5.0  1147880044\n",
       "264            3      296     5.0  1439474476\n",
       "912            4      296     4.0  1573938898\n",
       "1184           5      296     4.0   830786155\n",
       "1290           7      296     4.0   835444730\n",
       "...          ...      ...     ...         ...\n",
       "24998549  162533      296     5.0  1280834123\n",
       "24998905  162534      296     4.5  1526666265\n",
       "24999445  162536      296     5.0  1572257729\n",
       "24999632  162538      296     2.5  1438781382\n",
       "24999926  162541      296     3.5  1240953510\n",
       "\n",
       "[79672 rows x 4 columns]"
      ]
     },
     "execution_count": 8,
     "metadata": {},
     "output_type": "execute_result"
    }
   ],
   "source": [
    "df[df.movieId == 296]"
   ]
  },
  {
   "cell_type": "code",
   "execution_count": 12,
   "metadata": {},
   "outputs": [
    {
     "data": {
      "text/html": [
       "<div>\n",
       "<style scoped>\n",
       "    .dataframe tbody tr th:only-of-type {\n",
       "        vertical-align: middle;\n",
       "    }\n",
       "\n",
       "    .dataframe tbody tr th {\n",
       "        vertical-align: top;\n",
       "    }\n",
       "\n",
       "    .dataframe thead th {\n",
       "        text-align: right;\n",
       "    }\n",
       "</style>\n",
       "<table border=\"1\" class=\"dataframe\">\n",
       "  <thead>\n",
       "    <tr style=\"text-align: right;\">\n",
       "      <th></th>\n",
       "      <th>userId</th>\n",
       "      <th>movieId</th>\n",
       "      <th>rating</th>\n",
       "      <th>timestamp</th>\n",
       "    </tr>\n",
       "  </thead>\n",
       "  <tbody>\n",
       "    <tr>\n",
       "      <th>25000085</th>\n",
       "      <td>162541</td>\n",
       "      <td>8983</td>\n",
       "      <td>4.5</td>\n",
       "      <td>1240953211</td>\n",
       "    </tr>\n",
       "    <tr>\n",
       "      <th>25000086</th>\n",
       "      <td>162541</td>\n",
       "      <td>31658</td>\n",
       "      <td>4.5</td>\n",
       "      <td>1240953287</td>\n",
       "    </tr>\n",
       "    <tr>\n",
       "      <th>25000087</th>\n",
       "      <td>162541</td>\n",
       "      <td>33794</td>\n",
       "      <td>4.0</td>\n",
       "      <td>1240951792</td>\n",
       "    </tr>\n",
       "    <tr>\n",
       "      <th>25000088</th>\n",
       "      <td>162541</td>\n",
       "      <td>41566</td>\n",
       "      <td>4.0</td>\n",
       "      <td>1240952749</td>\n",
       "    </tr>\n",
       "    <tr>\n",
       "      <th>25000089</th>\n",
       "      <td>162541</td>\n",
       "      <td>45517</td>\n",
       "      <td>4.5</td>\n",
       "      <td>1240953353</td>\n",
       "    </tr>\n",
       "    <tr>\n",
       "      <th>25000090</th>\n",
       "      <td>162541</td>\n",
       "      <td>50872</td>\n",
       "      <td>4.5</td>\n",
       "      <td>1240953372</td>\n",
       "    </tr>\n",
       "    <tr>\n",
       "      <th>25000091</th>\n",
       "      <td>162541</td>\n",
       "      <td>55768</td>\n",
       "      <td>2.5</td>\n",
       "      <td>1240951998</td>\n",
       "    </tr>\n",
       "    <tr>\n",
       "      <th>25000092</th>\n",
       "      <td>162541</td>\n",
       "      <td>56176</td>\n",
       "      <td>2.0</td>\n",
       "      <td>1240950697</td>\n",
       "    </tr>\n",
       "    <tr>\n",
       "      <th>25000093</th>\n",
       "      <td>162541</td>\n",
       "      <td>58559</td>\n",
       "      <td>4.0</td>\n",
       "      <td>1240953434</td>\n",
       "    </tr>\n",
       "    <tr>\n",
       "      <th>25000094</th>\n",
       "      <td>162541</td>\n",
       "      <td>63876</td>\n",
       "      <td>5.0</td>\n",
       "      <td>1240952515</td>\n",
       "    </tr>\n",
       "  </tbody>\n",
       "</table>\n",
       "</div>"
      ],
      "text/plain": [
       "          userId  movieId  rating   timestamp\n",
       "25000085  162541     8983     4.5  1240953211\n",
       "25000086  162541    31658     4.5  1240953287\n",
       "25000087  162541    33794     4.0  1240951792\n",
       "25000088  162541    41566     4.0  1240952749\n",
       "25000089  162541    45517     4.5  1240953353\n",
       "25000090  162541    50872     4.5  1240953372\n",
       "25000091  162541    55768     2.5  1240951998\n",
       "25000092  162541    56176     2.0  1240950697\n",
       "25000093  162541    58559     4.0  1240953434\n",
       "25000094  162541    63876     5.0  1240952515"
      ]
     },
     "execution_count": 12,
     "metadata": {},
     "output_type": "execute_result"
    }
   ],
   "source": [
    "df.tail(10)"
   ]
  },
  {
   "cell_type": "code",
   "execution_count": 42,
   "metadata": {},
   "outputs": [
    {
     "data": {
      "text/plain": [
       "(0.5, 5.0)"
      ]
     },
     "execution_count": 42,
     "metadata": {},
     "output_type": "execute_result"
    }
   ],
   "source": [
    "df.rating.min(), df.rating.max()"
   ]
  },
  {
   "cell_type": "code",
   "execution_count": 56,
   "metadata": {},
   "outputs": [],
   "source": [
    "train = df[(df.movieId < 10001) & (df.userId < 10001)][['userId', 'movieId', 'rating']]"
   ]
  },
  {
   "cell_type": "code",
   "execution_count": 141,
   "metadata": {},
   "outputs": [
    {
     "data": {
      "text/html": [
       "<div>\n",
       "<style scoped>\n",
       "    .dataframe tbody tr th:only-of-type {\n",
       "        vertical-align: middle;\n",
       "    }\n",
       "\n",
       "    .dataframe tbody tr th {\n",
       "        vertical-align: top;\n",
       "    }\n",
       "\n",
       "    .dataframe thead th {\n",
       "        text-align: right;\n",
       "    }\n",
       "</style>\n",
       "<table border=\"1\" class=\"dataframe\">\n",
       "  <thead>\n",
       "    <tr style=\"text-align: right;\">\n",
       "      <th></th>\n",
       "      <th>userId</th>\n",
       "      <th>movieId</th>\n",
       "      <th>rating</th>\n",
       "    </tr>\n",
       "  </thead>\n",
       "  <tbody>\n",
       "    <tr>\n",
       "      <th>0</th>\n",
       "      <td>1</td>\n",
       "      <td>296</td>\n",
       "      <td>5.0</td>\n",
       "    </tr>\n",
       "    <tr>\n",
       "      <th>1</th>\n",
       "      <td>1</td>\n",
       "      <td>306</td>\n",
       "      <td>3.5</td>\n",
       "    </tr>\n",
       "    <tr>\n",
       "      <th>2</th>\n",
       "      <td>1</td>\n",
       "      <td>307</td>\n",
       "      <td>5.0</td>\n",
       "    </tr>\n",
       "    <tr>\n",
       "      <th>3</th>\n",
       "      <td>1</td>\n",
       "      <td>665</td>\n",
       "      <td>5.0</td>\n",
       "    </tr>\n",
       "    <tr>\n",
       "      <th>4</th>\n",
       "      <td>1</td>\n",
       "      <td>899</td>\n",
       "      <td>3.5</td>\n",
       "    </tr>\n",
       "    <tr>\n",
       "      <th>...</th>\n",
       "      <td>...</td>\n",
       "      <td>...</td>\n",
       "      <td>...</td>\n",
       "    </tr>\n",
       "    <tr>\n",
       "      <th>1496582</th>\n",
       "      <td>10000</td>\n",
       "      <td>7147</td>\n",
       "      <td>3.0</td>\n",
       "    </tr>\n",
       "    <tr>\n",
       "      <th>1496583</th>\n",
       "      <td>10000</td>\n",
       "      <td>7153</td>\n",
       "      <td>4.5</td>\n",
       "    </tr>\n",
       "    <tr>\n",
       "      <th>1496584</th>\n",
       "      <td>10000</td>\n",
       "      <td>7154</td>\n",
       "      <td>2.0</td>\n",
       "    </tr>\n",
       "    <tr>\n",
       "      <th>1496585</th>\n",
       "      <td>10000</td>\n",
       "      <td>7361</td>\n",
       "      <td>5.0</td>\n",
       "    </tr>\n",
       "    <tr>\n",
       "      <th>1496586</th>\n",
       "      <td>10000</td>\n",
       "      <td>8360</td>\n",
       "      <td>0.5</td>\n",
       "    </tr>\n",
       "  </tbody>\n",
       "</table>\n",
       "<p>1148902 rows × 3 columns</p>\n",
       "</div>"
      ],
      "text/plain": [
       "         userId  movieId  rating\n",
       "0             1      296     5.0\n",
       "1             1      306     3.5\n",
       "2             1      307     5.0\n",
       "3             1      665     5.0\n",
       "4             1      899     3.5\n",
       "...         ...      ...     ...\n",
       "1496582   10000     7147     3.0\n",
       "1496583   10000     7153     4.5\n",
       "1496584   10000     7154     2.0\n",
       "1496585   10000     7361     5.0\n",
       "1496586   10000     8360     0.5\n",
       "\n",
       "[1148902 rows x 3 columns]"
      ]
     },
     "execution_count": 141,
     "metadata": {},
     "output_type": "execute_result"
    }
   ],
   "source": [
    "train"
   ]
  },
  {
   "cell_type": "code",
   "execution_count": 144,
   "metadata": {},
   "outputs": [
    {
     "name": "stdout",
     "output_type": "stream",
     "text": [
      "Evaluating RMSE, MAE of algorithm KNNBasic on 5 split(s).\n",
      "\n",
      "                  Fold 1  Fold 2  Fold 3  Fold 4  Fold 5  Mean    Std     \n",
      "RMSE (testset)    0.8967  0.8982  0.8973  0.8968  0.8969  0.8972  0.0006  \n",
      "MAE (testset)     0.6857  0.6850  0.6845  0.6847  0.6842  0.6848  0.0005  \n",
      "Fit time          15.16   15.17   15.31   15.17   15.27   15.22   0.06    \n",
      "Test time         74.99   79.68   81.14   79.57   82.06   79.49   2.43    \n"
     ]
    }
   ],
   "source": [
    "reader = Reader(line_format='item user rating')\n",
    "rating_data = Dataset.load_from_df(train, reader)\n",
    "\n",
    "knn_basic = KNNBasic(k=100, verbose=False)\n",
    "knn_basic_results = cross_validate(knn_basic, rating_data, measures=['RMSE', 'MAE'], cv=5, verbose=True)"
   ]
  },
  {
   "cell_type": "code",
   "execution_count": 61,
   "metadata": {},
   "outputs": [
    {
     "name": "stdout",
     "output_type": "stream",
     "text": [
      "Evaluating RMSE, MAE of algorithm SVD on 5 split(s).\n",
      "\n",
      "                  Fold 1  Fold 2  Fold 3  Fold 4  Fold 5  Mean    Std     \n",
      "RMSE (testset)    0.8591  0.8597  0.8628  0.8597  0.8586  0.8600  0.0015  \n",
      "MAE (testset)     0.6528  0.6546  0.6562  0.6537  0.6536  0.6542  0.0011  \n",
      "Fit time          25.96   22.28   24.20   21.36   25.99   23.96   1.89    \n",
      "Test time         0.85    0.85    0.64    0.87    0.86    0.81    0.09    \n"
     ]
    }
   ],
   "source": [
    "# using Singular Value Decomposition (Matrix Factorisation) to build the recommender system\n",
    "svd = SVD(verbose=False, n_epochs=100)\n",
    "svd_results = cross_validate(svd, rating_data, measures=['RMSE', 'MAE'], cv=5, verbose=True)"
   ]
  },
  {
   "cell_type": "code",
   "execution_count": 62,
   "metadata": {},
   "outputs": [
    {
     "name": "stdout",
     "output_type": "stream",
     "text": [
      "Evaluating RMSE, MAE of algorithm SlopeOne on 5 split(s).\n",
      "\n",
      "                  Fold 1  Fold 2  Fold 3  Fold 4  Fold 5  Mean    Std     \n",
      "RMSE (testset)    0.8704  0.8640  0.8676  0.8683  0.8666  0.8674  0.0021  \n",
      "MAE (testset)     0.6657  0.6615  0.6637  0.6647  0.6629  0.6637  0.0014  \n",
      "Fit time          7.12    7.17    7.22    7.23    7.25    7.20    0.05    \n",
      "Test time         15.76   15.95   19.09   15.82   16.11   16.55   1.28    \n"
     ]
    }
   ],
   "source": [
    "# SlopOne results\n",
    "slope_one = SlopeOne()\n",
    "slope_one_results = cross_validate(slope_one, rating_data, measures=['RMSE', 'MAE'], cv=5, verbose=True)"
   ]
  },
  {
   "cell_type": "code",
   "execution_count": 63,
   "metadata": {},
   "outputs": [
    {
     "name": "stdout",
     "output_type": "stream",
     "text": [
      "Evaluating RMSE, MAE of algorithm CoClustering on 5 split(s).\n",
      "\n",
      "                  Fold 1  Fold 2  Fold 3  Fold 4  Fold 5  Mean    Std     \n",
      "RMSE (testset)    0.8870  0.8891  0.8977  0.8880  0.8885  0.8901  0.0039  \n",
      "MAE (testset)     0.6894  0.6912  0.6968  0.6897  0.6908  0.6916  0.0027  \n",
      "Fit time          26.66   31.45   29.35   26.57   29.68   28.74   1.88    \n",
      "Test time         0.96    0.65    0.64    0.65    0.94    0.77    0.15    \n"
     ]
    }
   ],
   "source": [
    "# CoClustering\n",
    "co_clustering = CoClustering(n_epochs=100, verbose=False, random_state=0)\n",
    "co_clustering_results = cross_validate(co_clustering, rating_data, measures=['RMSE', 'MAE'], cv=5, verbose=True)"
   ]
  },
  {
   "cell_type": "code",
   "execution_count": 91,
   "metadata": {},
   "outputs": [
    {
     "name": "stdout",
     "output_type": "stream",
     "text": [
      "Evaluating RMSE, MAE of algorithm NMF on 5 split(s).\n",
      "\n",
      "                  Fold 1  Fold 2  Fold 3  Fold 4  Fold 5  Mean    Std     \n",
      "RMSE (testset)    0.8460  0.8497  0.8508  0.8508  0.8487  0.8492  0.0018  \n",
      "MAE (testset)     0.6507  0.6534  0.6542  0.6548  0.6535  0.6533  0.0014  \n",
      "Fit time          13.79   11.00   14.01   17.70   11.54   13.61   2.37    \n",
      "Test time         0.95    0.97    1.53    0.98    0.94    1.07    0.23    \n"
     ]
    }
   ],
   "source": [
    "# NMF\n",
    "nmf = NMF(n_epochs=100, verbose=False, random_state=0)\n",
    "nmf_results = cross_validate(nmf, rating_data, measures=['RMSE', 'MAE'], cv=5, verbose=True)"
   ]
  },
  {
   "cell_type": "code",
   "execution_count": 64,
   "metadata": {},
   "outputs": [
    {
     "name": "stdout",
     "output_type": "stream",
     "text": [
      "Evaluating RMSE, MAE of algorithm KNNWithMeans on 5 split(s).\n",
      "\n",
      "                  Fold 1  Fold 2  Fold 3  Fold 4  Fold 5  Mean    Std     \n",
      "RMSE (testset)    0.8788  0.8774  0.8755  0.8771  0.8776  0.8773  0.0011  \n",
      "MAE (testset)     0.6772  0.6756  0.6746  0.6757  0.6774  0.6761  0.0010  \n",
      "Fit time          14.60   14.96   14.87   15.15   14.79   14.87   0.18    \n",
      "Test time         70.43   72.47   73.78   82.09   69.23   73.60   4.53    \n"
     ]
    }
   ],
   "source": [
    "#KNNWithMeans\n",
    "knn_means = KNNWithMeans(k=100, verbose=False)\n",
    "knn_means_results = cross_validate(knn_means, rating_data, measures=['RMSE', 'MAE'], cv=5, verbose=True)"
   ]
  },
  {
   "cell_type": "code",
   "execution_count": 65,
   "metadata": {},
   "outputs": [
    {
     "name": "stdout",
     "output_type": "stream",
     "text": [
      "Evaluating RMSE, MAE of algorithm KNNWithZScore on 5 split(s).\n",
      "\n",
      "                  Fold 1  Fold 2  Fold 3  Fold 4  Fold 5  Mean    Std     \n",
      "RMSE (testset)    0.8793  0.8740  0.8742  0.8753  0.8767  0.8759  0.0020  \n",
      "MAE (testset)     0.6740  0.6709  0.6713  0.6721  0.6723  0.6721  0.0011  \n",
      "Fit time          14.98   15.23   14.95   15.01   15.00   15.04   0.10    \n",
      "Test time         81.27   81.92   75.73   73.15   80.08   78.43   3.41    \n"
     ]
    }
   ],
   "source": [
    "#KNNWithZScore\n",
    "knn_zscore = KNNWithZScore(k=100, verbose=False)\n",
    "knn_zscore_results = cross_validate(knn_zscore, rating_data, measures=['RMSE', 'MAE'], cv=5, verbose=True)"
   ]
  },
  {
   "cell_type": "code",
   "execution_count": 142,
   "metadata": {},
   "outputs": [
    {
     "data": {
      "text/html": [
       "<div>\n",
       "<style scoped>\n",
       "    .dataframe tbody tr th:only-of-type {\n",
       "        vertical-align: middle;\n",
       "    }\n",
       "\n",
       "    .dataframe tbody tr th {\n",
       "        vertical-align: top;\n",
       "    }\n",
       "\n",
       "    .dataframe thead th {\n",
       "        text-align: right;\n",
       "    }\n",
       "</style>\n",
       "<table border=\"1\" class=\"dataframe\">\n",
       "  <thead>\n",
       "    <tr style=\"text-align: right;\">\n",
       "      <th></th>\n",
       "      <th>userId</th>\n",
       "      <th>movieId</th>\n",
       "      <th>rating</th>\n",
       "    </tr>\n",
       "  </thead>\n",
       "  <tbody>\n",
       "    <tr>\n",
       "      <th>0</th>\n",
       "      <td>1</td>\n",
       "      <td>296</td>\n",
       "      <td>5.0</td>\n",
       "    </tr>\n",
       "    <tr>\n",
       "      <th>1</th>\n",
       "      <td>1</td>\n",
       "      <td>306</td>\n",
       "      <td>3.5</td>\n",
       "    </tr>\n",
       "    <tr>\n",
       "      <th>2</th>\n",
       "      <td>1</td>\n",
       "      <td>307</td>\n",
       "      <td>5.0</td>\n",
       "    </tr>\n",
       "    <tr>\n",
       "      <th>3</th>\n",
       "      <td>1</td>\n",
       "      <td>665</td>\n",
       "      <td>5.0</td>\n",
       "    </tr>\n",
       "    <tr>\n",
       "      <th>4</th>\n",
       "      <td>1</td>\n",
       "      <td>899</td>\n",
       "      <td>3.5</td>\n",
       "    </tr>\n",
       "    <tr>\n",
       "      <th>...</th>\n",
       "      <td>...</td>\n",
       "      <td>...</td>\n",
       "      <td>...</td>\n",
       "    </tr>\n",
       "    <tr>\n",
       "      <th>733150</th>\n",
       "      <td>5000</td>\n",
       "      <td>1073</td>\n",
       "      <td>2.0</td>\n",
       "    </tr>\n",
       "    <tr>\n",
       "      <th>733151</th>\n",
       "      <td>5000</td>\n",
       "      <td>1210</td>\n",
       "      <td>3.0</td>\n",
       "    </tr>\n",
       "    <tr>\n",
       "      <th>733152</th>\n",
       "      <td>5000</td>\n",
       "      <td>1356</td>\n",
       "      <td>3.0</td>\n",
       "    </tr>\n",
       "    <tr>\n",
       "      <th>733153</th>\n",
       "      <td>5000</td>\n",
       "      <td>1393</td>\n",
       "      <td>4.0</td>\n",
       "    </tr>\n",
       "    <tr>\n",
       "      <th>733154</th>\n",
       "      <td>5000</td>\n",
       "      <td>1416</td>\n",
       "      <td>2.0</td>\n",
       "    </tr>\n",
       "  </tbody>\n",
       "</table>\n",
       "<p>563139 rows × 3 columns</p>\n",
       "</div>"
      ],
      "text/plain": [
       "        userId  movieId  rating\n",
       "0            1      296     5.0\n",
       "1            1      306     3.5\n",
       "2            1      307     5.0\n",
       "3            1      665     5.0\n",
       "4            1      899     3.5\n",
       "...        ...      ...     ...\n",
       "733150    5000     1073     2.0\n",
       "733151    5000     1210     3.0\n",
       "733152    5000     1356     3.0\n",
       "733153    5000     1393     4.0\n",
       "733154    5000     1416     2.0\n",
       "\n",
       "[563139 rows x 3 columns]"
      ]
     },
     "execution_count": 142,
     "metadata": {},
     "output_type": "execute_result"
    }
   ],
   "source": [
    "train_5k_users = df[(df.movieId < 10001) & (df.userId < 5001)][['userId', 'movieId', 'rating']]\n",
    "train_5k_users"
   ]
  },
  {
   "cell_type": "code",
   "execution_count": 143,
   "metadata": {},
   "outputs": [
    {
     "name": "stdout",
     "output_type": "stream",
     "text": [
      "Evaluating RMSE, MAE of algorithm KNNBasic on 5 split(s).\n",
      "\n",
      "                  Fold 1  Fold 2  Fold 3  Fold 4  Fold 5  Mean    Std     \n",
      "RMSE (testset)    0.9035  0.9037  0.9043  0.9026  0.9019  0.9032  0.0008  \n",
      "MAE (testset)     0.6920  0.6915  0.6922  0.6913  0.6911  0.6916  0.0004  \n",
      "Fit time          3.21    3.32    3.21    3.21    3.20    3.23    0.05    \n",
      "Test time         20.76   19.88   17.32   20.34   18.74   19.41   1.24    \n"
     ]
    }
   ],
   "source": [
    "reader_5k = Reader(line_format='item user rating')\n",
    "rating_data_5k = Dataset.load_from_df(train_5k_users, reader_5k)\n",
    "\n",
    "knn_basic_5k = KNNBasic(k=100, verbose=False)\n",
    "knn_basic_results_5k = cross_validate(knn_basic_5k, rating_data_5k, measures=['RMSE', 'MAE'], cv=5, verbose=True)"
   ]
  },
  {
   "cell_type": "code",
   "execution_count": 68,
   "metadata": {},
   "outputs": [
    {
     "name": "stdout",
     "output_type": "stream",
     "text": [
      "Evaluating RMSE, MAE of algorithm SVD on 5 split(s).\n",
      "\n",
      "                  Fold 1  Fold 2  Fold 3  Fold 4  Fold 5  Mean    Std     \n",
      "RMSE (testset)    0.8749  0.8711  0.8715  0.8711  0.8716  0.8720  0.0014  \n",
      "MAE (testset)     0.6679  0.6646  0.6647  0.6658  0.6651  0.6656  0.0012  \n",
      "Fit time          12.90   11.47   12.97   12.71   12.85   12.58   0.56    \n",
      "Test time         0.63    0.21    0.63    0.66    0.64    0.55    0.17    \n"
     ]
    }
   ],
   "source": [
    "# using Singular Value Decomposition (Matrix Factorisation) to build the recommender system\n",
    "svd_5k = SVD(verbose=False, n_epochs=100)\n",
    "svd_results_5k = cross_validate(svd_5k, rating_data_5k, measures=['RMSE', 'MAE'], cv=5, verbose=True)"
   ]
  },
  {
   "cell_type": "code",
   "execution_count": 69,
   "metadata": {},
   "outputs": [
    {
     "name": "stdout",
     "output_type": "stream",
     "text": [
      "Evaluating RMSE, MAE of algorithm SlopeOne on 5 split(s).\n",
      "\n",
      "                  Fold 1  Fold 2  Fold 3  Fold 4  Fold 5  Mean    Std     \n",
      "RMSE (testset)    0.8693  0.8707  0.8688  0.8657  0.8684  0.8686  0.0016  \n",
      "MAE (testset)     0.6642  0.6660  0.6645  0.6639  0.6650  0.6647  0.0007  \n",
      "Fit time          3.36    3.47    3.51    3.51    3.49    3.47    0.06    \n",
      "Test time         8.16    7.95    7.25    8.31    8.45    8.03    0.42    \n"
     ]
    }
   ],
   "source": [
    "# SlopOne results\n",
    "slope_one_5k = SlopeOne()\n",
    "slope_one_results_5k = cross_validate(slope_one_5k, rating_data_5k, measures=['RMSE', 'MAE'], cv=5, verbose=True)"
   ]
  },
  {
   "cell_type": "code",
   "execution_count": 70,
   "metadata": {},
   "outputs": [
    {
     "name": "stdout",
     "output_type": "stream",
     "text": [
      "Evaluating RMSE, MAE of algorithm CoClustering on 5 split(s).\n",
      "\n",
      "                  Fold 1  Fold 2  Fold 3  Fold 4  Fold 5  Mean    Std     \n",
      "RMSE (testset)    0.8907  0.8922  0.8964  0.8909  0.8897  0.8920  0.0023  \n",
      "MAE (testset)     0.6914  0.6929  0.6958  0.6921  0.6901  0.6925  0.0019  \n",
      "Fit time          16.95   16.11   13.34   12.50   12.96   14.37   1.80    \n",
      "Test time         0.66    0.65    0.17    0.64    0.67    0.56    0.19    \n"
     ]
    }
   ],
   "source": [
    "# CoClustering\n",
    "co_clustering_5k = CoClustering(n_epochs=100, verbose=False, random_state=0)\n",
    "co_clustering_results_5k = cross_validate(co_clustering_5k, rating_data_5k, measures=['RMSE', 'MAE'], cv=5, verbose=True)"
   ]
  },
  {
   "cell_type": "code",
   "execution_count": 92,
   "metadata": {},
   "outputs": [
    {
     "name": "stdout",
     "output_type": "stream",
     "text": [
      "Evaluating RMSE, MAE of algorithm NMF on 5 split(s).\n",
      "\n",
      "                  Fold 1  Fold 2  Fold 3  Fold 4  Fold 5  Mean    Std     \n",
      "RMSE (testset)    0.8605  0.8606  0.8566  0.8585  0.8582  0.8589  0.0015  \n",
      "MAE (testset)     0.6615  0.6617  0.6593  0.6600  0.6609  0.6607  0.0009  \n",
      "Fit time          6.48    8.35    8.58    6.49    5.89    7.15    1.09    \n",
      "Test time         0.77    0.76    0.78    0.17    0.78    0.65    0.24    \n"
     ]
    }
   ],
   "source": [
    "# NMF\n",
    "nmf_5k = NMF(n_epochs=100, verbose=False, random_state=0)\n",
    "nmf_results_5k = cross_validate(nmf_5k, rating_data_5k, measures=['RMSE', 'MAE'], cv=5, verbose=True)"
   ]
  },
  {
   "cell_type": "code",
   "execution_count": 71,
   "metadata": {},
   "outputs": [
    {
     "name": "stdout",
     "output_type": "stream",
     "text": [
      "Evaluating RMSE, MAE of algorithm KNNWithMeans on 5 split(s).\n",
      "\n",
      "                  Fold 1  Fold 2  Fold 3  Fold 4  Fold 5  Mean    Std     \n",
      "RMSE (testset)    0.8768  0.8743  0.8767  0.8737  0.8769  0.8757  0.0014  \n",
      "MAE (testset)     0.6738  0.6738  0.6749  0.6720  0.6746  0.6738  0.0010  \n",
      "Fit time          3.36    3.36    3.16    3.18    3.18    3.25    0.09    \n",
      "Test time         21.31   19.27   18.24   20.70   21.09   20.12   1.18    \n"
     ]
    }
   ],
   "source": [
    "#KNNWithMeans\n",
    "knn_means_5k = KNNWithMeans(k=100, verbose=False)\n",
    "knn_means_results_5k = cross_validate(knn_means_5k, rating_data_5k, measures=['RMSE', 'MAE'], cv=5, verbose=True)"
   ]
  },
  {
   "cell_type": "code",
   "execution_count": 72,
   "metadata": {},
   "outputs": [
    {
     "name": "stdout",
     "output_type": "stream",
     "text": [
      "Evaluating RMSE, MAE of algorithm KNNWithZScore on 5 split(s).\n",
      "\n",
      "                  Fold 1  Fold 2  Fold 3  Fold 4  Fold 5  Mean    Std     \n",
      "RMSE (testset)    0.8774  0.8705  0.8742  0.8729  0.8755  0.8741  0.0023  \n",
      "MAE (testset)     0.6708  0.6668  0.6699  0.6693  0.6698  0.6693  0.0013  \n",
      "Fit time          3.38    3.42    3.27    3.32    3.34    3.35    0.05    \n",
      "Test time         19.57   21.01   18.95   21.92   18.55   20.00   1.27    \n"
     ]
    }
   ],
   "source": [
    "#KNNWithZScore\n",
    "knn_zscore_5k = KNNWithZScore(k=100, verbose=False)\n",
    "knn_zscore_results_5k = cross_validate(knn_zscore_5k, rating_data_5k, measures=['RMSE', 'MAE'], cv=5, verbose=True)"
   ]
  },
  {
   "cell_type": "code",
   "execution_count": 151,
   "metadata": {},
   "outputs": [
    {
     "name": "stdout",
     "output_type": "stream",
     "text": [
      "0.8741, 0.0023\n",
      "0.6693, 0.0013\n"
     ]
    }
   ],
   "source": [
    "print(f\"{knn_zscore_results_5k['test_rmse'].mean():.4f}, {knn_zscore_results_5k['test_rmse'].std():.4f}\")\n",
    "print(f\"{knn_zscore_results_5k['test_mae'].mean():.4f}, {knn_zscore_results_5k['test_mae'].std():.4f}\")"
   ]
  },
  {
   "cell_type": "code",
   "execution_count": 152,
   "metadata": {},
   "outputs": [],
   "source": [
    "results = np.array(([svd_results['test_rmse'].mean(), svd_results['test_rmse'].std(),\n",
    "                    svd_results['test_mae'].mean(), svd_results['test_mae'].std(),\n",
    "                    sum(svd_results['fit_time'])/len(svd_results['fit_time']), \n",
    "                    sum(svd_results['test_time'])/len(svd_results['test_time'])],\n",
    "                    \n",
    "                    [nmf_results['test_rmse'].mean(), nmf_results['test_rmse'].std(),\n",
    "                     nmf_results['test_mae'].mean(), nmf_results['test_mae'].std(),\n",
    "                     sum(nmf_results['fit_time'])/len(nmf_results['fit_time']), \n",
    "                     sum(nmf_results['test_time'])/len(nmf_results['test_time'])],\n",
    "\n",
    "                    [co_clustering_results['test_rmse'].mean(), co_clustering_results['test_rmse'].std(),\n",
    "                     co_clustering_results['test_mae'].mean(), co_clustering_results['test_mae'].std(),\n",
    "                     sum(co_clustering_results['fit_time'])/len(co_clustering_results['fit_time']), \n",
    "                     sum(co_clustering_results['test_time'])/len(co_clustering_results['test_time'])],\n",
    "\n",
    "                    [slope_one_results['test_rmse'].mean(), slope_one_results['test_rmse'].std(),\n",
    "                     slope_one_results['test_mae'].mean(), slope_one_results['test_mae'].std(),\n",
    "                     sum(slope_one_results['fit_time'])/len(slope_one_results['fit_time']), \n",
    "                     sum(slope_one_results['test_time'])/len(slope_one_results['test_time'])],\n",
    "\n",
    "                    [knn_basic_results['test_rmse'].mean(), knn_basic_results['test_rmse'].std(),\n",
    "                     knn_basic_results['test_mae'].mean(), knn_basic_results['test_mae'].std(),\n",
    "                     sum(knn_basic_results['fit_time'])/len(knn_basic_results['fit_time']), \n",
    "                     sum(knn_basic_results['test_time'])/len(knn_basic_results['test_time'])],\n",
    "\n",
    "                    [knn_means_results['test_rmse'].mean(), knn_means_results['test_rmse'].std(),\n",
    "                     knn_means_results['test_mae'].mean(), knn_means_results['test_mae'].std(),\n",
    "                     sum(knn_means_results['fit_time'])/len(knn_means_results['fit_time']), \n",
    "                     sum(knn_means_results['test_time'])/len(knn_means_results['test_time'])],\n",
    "\n",
    "                    [knn_zscore_results['test_rmse'].mean(), knn_zscore_results['test_rmse'].std(),\n",
    "                     knn_zscore_results['test_mae'].mean(), knn_zscore_results['test_mae'].std(),\n",
    "                     sum(knn_zscore_results['fit_time'])/len(knn_zscore_results['fit_time']),\n",
    "                     sum(knn_zscore_results['test_time'])/len(knn_zscore_results['test_time'])]))"
   ]
  },
  {
   "cell_type": "code",
   "execution_count": 153,
   "metadata": {},
   "outputs": [],
   "source": [
    "results_5k = np.array(([svd_results_5k['test_rmse'].mean(), svd_results_5k['test_rmse'].std(),\n",
    "                        svd_results_5k['test_mae'].mean(),  svd_results_5k['test_mae'].std(),\n",
    "                    sum(svd_results_5k['fit_time'])  /  len(svd_results_5k['fit_time']), \n",
    "                    sum(svd_results_5k['test_time']) /  len(svd_results_5k['test_time'])],\n",
    "                    \n",
    "                        [nmf_results_5k['test_rmse'].mean(), nmf_results_5k['test_rmse'].std(),\n",
    "                         nmf_results_5k['test_mae'].mean(),  nmf_results_5k['test_mae'].std(),\n",
    "                     sum(nmf_results_5k['fit_time'])  /  len(nmf_results_5k['fit_time']), \n",
    "                     sum(nmf_results_5k['test_time']) /  len(nmf_results_5k['test_time'])],\n",
    "\n",
    "                        [co_clustering_results_5k['test_rmse'].mean(), co_clustering_results_5k['test_rmse'].std(),\n",
    "                         co_clustering_results_5k['test_mae'].mean(),  co_clustering_results_5k['test_mae'].std(),\n",
    "                     sum(co_clustering_results_5k['fit_time'])  /  len(co_clustering_results_5k['fit_time']), \n",
    "                     sum(co_clustering_results_5k['test_time']) /  len(co_clustering_results_5k['test_time'])],\n",
    "\n",
    "                        [slope_one_results_5k['test_rmse'].mean(), slope_one_results_5k['test_rmse'].std(),\n",
    "                         slope_one_results_5k['test_mae'].mean(),  slope_one_results_5k['test_mae'].std(),\n",
    "                     sum(slope_one_results_5k['fit_time'])  /  len(slope_one_results_5k['fit_time']), \n",
    "                     sum(slope_one_results_5k['test_time']) /  len(slope_one_results_5k['test_time'])],\n",
    "\n",
    "                        [knn_basic_results_5k['test_rmse'].mean(), knn_basic_results_5k['test_rmse'].std(),\n",
    "                         knn_basic_results_5k['test_mae'].mean(),  knn_basic_results_5k['test_mae'].std(),\n",
    "                     sum(knn_basic_results_5k['fit_time'])  /  len(knn_basic_results_5k['fit_time']), \n",
    "                     sum(knn_basic_results_5k['test_time']) /  len(knn_basic_results_5k['test_time'])],\n",
    "\n",
    "                        [knn_means_results_5k['test_rmse'].mean(), knn_means_results_5k['test_rmse'].std(),\n",
    "                         knn_means_results_5k['test_mae'].mean(),  knn_means_results_5k['test_mae'].std(),\n",
    "                     sum(knn_means_results_5k['fit_time'])  /  len(knn_means_results_5k['fit_time']), \n",
    "                     sum(knn_means_results_5k['test_time']) /  len(knn_means_results_5k['test_time'])],\n",
    "\n",
    "                        [knn_zscore_results_5k['test_rmse'].mean(), knn_zscore_results_5k['test_rmse'].std(),\n",
    "                         knn_zscore_results_5k['test_mae'].mean(),  knn_zscore_results_5k['test_mae'].std(),\n",
    "                     sum(knn_zscore_results_5k['fit_time'])  /  len(knn_zscore_results_5k['fit_time']),\n",
    "                     sum(knn_zscore_results_5k['test_time']) /  len(knn_zscore_results_5k['test_time'])]))"
   ]
  },
  {
   "cell_type": "code",
   "execution_count": 154,
   "metadata": {},
   "outputs": [
    {
     "data": {
      "text/plain": [
       "array([[8.59965933e-01, 1.46201713e-03, 6.54186774e-01, 1.14135193e-03,\n",
       "        2.39556204e+01, 8.14153004e-01],\n",
       "       [8.49209255e-01, 1.78133597e-03, 6.53304545e-01, 1.39715574e-03,\n",
       "        1.36082708e+01, 1.07179866e+00],\n",
       "       [8.90068806e-01, 3.89594259e-03, 6.91603525e-01, 2.69259007e-03,\n",
       "        2.87418577e+01, 7.68877172e-01],\n",
       "       [8.67366013e-01, 2.11466575e-03, 6.63711419e-01, 1.43362746e-03,\n",
       "        7.19937601e+00, 1.65450042e+01],\n",
       "       [8.97160452e-01, 5.67163585e-04, 6.84796366e-01, 5.14811011e-04,\n",
       "        1.52164154e+01, 7.94880784e+01],\n",
       "       [8.77267760e-01, 1.07193007e-03, 6.76099580e-01, 1.04707813e-03,\n",
       "        1.48725300e+01, 7.35991481e+01],\n",
       "       [8.75908802e-01, 1.96441276e-03, 6.72122757e-01, 1.08290979e-03,\n",
       "        1.50351339e+01, 7.84297518e+01]])"
      ]
     },
     "execution_count": 154,
     "metadata": {},
     "output_type": "execute_result"
    }
   ],
   "source": [
    "results"
   ]
  },
  {
   "cell_type": "code",
   "execution_count": 155,
   "metadata": {},
   "outputs": [
    {
     "data": {
      "text/plain": [
       "array([[8.72020714e-01, 1.43478105e-03, 6.65631172e-01, 1.21703343e-03,\n",
       "        1.25797895e+01, 5.53082418e-01],\n",
       "       [8.58880272e-01, 1.49162936e-03, 6.60700551e-01, 9.27207404e-04,\n",
       "        7.15436349e+00, 6.53157854e-01],\n",
       "       [8.91998457e-01, 2.34656092e-03, 6.92454441e-01, 1.89215918e-03,\n",
       "        1.43723734e+01, 5.58905506e-01],\n",
       "       [8.68562769e-01, 1.61448688e-03, 6.64698316e-01, 7.26476408e-04,\n",
       "        3.46887178e+00, 8.02561841e+00],\n",
       "       [9.03186429e-01, 8.46410311e-04, 6.91628814e-01, 4.23781923e-04,\n",
       "        3.22872882e+00, 1.94064451e+01],\n",
       "       [8.75670461e-01, 1.38272252e-03, 6.73817861e-01, 9.91941902e-04,\n",
       "        3.24807606e+00, 2.01234848e+01],\n",
       "       [8.74081454e-01, 2.32864830e-03, 6.69307486e-01, 1.32480102e-03,\n",
       "        3.34646239e+00, 2.00009933e+01]])"
      ]
     },
     "execution_count": 155,
     "metadata": {},
     "output_type": "execute_result"
    }
   ],
   "source": [
    "results_5k"
   ]
  },
  {
   "cell_type": "code",
   "execution_count": 156,
   "metadata": {},
   "outputs": [
    {
     "name": "stdout",
     "output_type": "stream",
     "text": [
      "\n",
      "\t\tThe results from evaluating\u001b[1m 10k Movies for 10k users\u001b[0;0m\n",
      "\n"
     ]
    },
    {
     "data": {
      "text/html": [
       "<div>\n",
       "<style scoped>\n",
       "    .dataframe tbody tr th:only-of-type {\n",
       "        vertical-align: middle;\n",
       "    }\n",
       "\n",
       "    .dataframe tbody tr th {\n",
       "        vertical-align: top;\n",
       "    }\n",
       "\n",
       "    .dataframe thead th {\n",
       "        text-align: right;\n",
       "    }\n",
       "</style>\n",
       "<table border=\"1\" class=\"dataframe\">\n",
       "  <thead>\n",
       "    <tr style=\"text-align: right;\">\n",
       "      <th></th>\n",
       "      <th>RMSE Mean</th>\n",
       "      <th>RMSE Std</th>\n",
       "      <th>MAE Mean</th>\n",
       "      <th>MAE Std</th>\n",
       "      <th>Fit Time Mean</th>\n",
       "      <th>Test Time Mean</th>\n",
       "    </tr>\n",
       "  </thead>\n",
       "  <tbody>\n",
       "    <tr>\n",
       "      <th>SVD</th>\n",
       "      <td>0.859966</td>\n",
       "      <td>0.001462</td>\n",
       "      <td>0.654187</td>\n",
       "      <td>0.001141</td>\n",
       "      <td>23.955620</td>\n",
       "      <td>0.814153</td>\n",
       "    </tr>\n",
       "    <tr>\n",
       "      <th>NMF</th>\n",
       "      <td>0.849209</td>\n",
       "      <td>0.001781</td>\n",
       "      <td>0.653305</td>\n",
       "      <td>0.001397</td>\n",
       "      <td>13.608271</td>\n",
       "      <td>1.071799</td>\n",
       "    </tr>\n",
       "    <tr>\n",
       "      <th>Co Clustering</th>\n",
       "      <td>0.890069</td>\n",
       "      <td>0.003896</td>\n",
       "      <td>0.691604</td>\n",
       "      <td>0.002693</td>\n",
       "      <td>28.741858</td>\n",
       "      <td>0.768877</td>\n",
       "    </tr>\n",
       "    <tr>\n",
       "      <th>SlopeOne</th>\n",
       "      <td>0.867366</td>\n",
       "      <td>0.002115</td>\n",
       "      <td>0.663711</td>\n",
       "      <td>0.001434</td>\n",
       "      <td>7.199376</td>\n",
       "      <td>16.545004</td>\n",
       "    </tr>\n",
       "    <tr>\n",
       "      <th>KNN_Basic</th>\n",
       "      <td>0.897160</td>\n",
       "      <td>0.000567</td>\n",
       "      <td>0.684796</td>\n",
       "      <td>0.000515</td>\n",
       "      <td>15.216415</td>\n",
       "      <td>79.488078</td>\n",
       "    </tr>\n",
       "    <tr>\n",
       "      <th>KNN_Means</th>\n",
       "      <td>0.877268</td>\n",
       "      <td>0.001072</td>\n",
       "      <td>0.676100</td>\n",
       "      <td>0.001047</td>\n",
       "      <td>14.872530</td>\n",
       "      <td>73.599148</td>\n",
       "    </tr>\n",
       "    <tr>\n",
       "      <th>KNN_ZScore</th>\n",
       "      <td>0.875909</td>\n",
       "      <td>0.001964</td>\n",
       "      <td>0.672123</td>\n",
       "      <td>0.001083</td>\n",
       "      <td>15.035134</td>\n",
       "      <td>78.429752</td>\n",
       "    </tr>\n",
       "  </tbody>\n",
       "</table>\n",
       "</div>"
      ],
      "text/plain": [
       "               RMSE Mean  RMSE Std  MAE Mean   MAE Std  Fit Time Mean  \\\n",
       "SVD             0.859966  0.001462  0.654187  0.001141      23.955620   \n",
       "NMF             0.849209  0.001781  0.653305  0.001397      13.608271   \n",
       "Co Clustering   0.890069  0.003896  0.691604  0.002693      28.741858   \n",
       "SlopeOne        0.867366  0.002115  0.663711  0.001434       7.199376   \n",
       "KNN_Basic       0.897160  0.000567  0.684796  0.000515      15.216415   \n",
       "KNN_Means       0.877268  0.001072  0.676100  0.001047      14.872530   \n",
       "KNN_ZScore      0.875909  0.001964  0.672123  0.001083      15.035134   \n",
       "\n",
       "               Test Time Mean  \n",
       "SVD                  0.814153  \n",
       "NMF                  1.071799  \n",
       "Co Clustering        0.768877  \n",
       "SlopeOne            16.545004  \n",
       "KNN_Basic           79.488078  \n",
       "KNN_Means           73.599148  \n",
       "KNN_ZScore          78.429752  "
      ]
     },
     "execution_count": 156,
     "metadata": {},
     "output_type": "execute_result"
    }
   ],
   "source": [
    "result_df = pd.DataFrame(results, \n",
    "                         index=['SVD', 'NMF', 'Co Clustering', 'SlopeOne', 'KNN_Basic', 'KNN_Means', 'KNN_ZScore'],\n",
    "                         columns=['RMSE Mean','RMSE Std', 'MAE Mean','MAE Std', 'Fit Time Mean','Test Time Mean'])\n",
    "\n",
    "print ('\\n\\t\\tThe results from evaluating\\033[1m 10k Movies for 10k users\\033[0;0m\\n')\n",
    "\n",
    "result_df"
   ]
  },
  {
   "cell_type": "code",
   "execution_count": 157,
   "metadata": {},
   "outputs": [
    {
     "name": "stdout",
     "output_type": "stream",
     "text": [
      "\n",
      "\t\tThe results from evaluating\u001b[1m 10k Movies for only 5k users\u001b[0;0m\n",
      "\n"
     ]
    },
    {
     "data": {
      "text/html": [
       "<div>\n",
       "<style scoped>\n",
       "    .dataframe tbody tr th:only-of-type {\n",
       "        vertical-align: middle;\n",
       "    }\n",
       "\n",
       "    .dataframe tbody tr th {\n",
       "        vertical-align: top;\n",
       "    }\n",
       "\n",
       "    .dataframe thead th {\n",
       "        text-align: right;\n",
       "    }\n",
       "</style>\n",
       "<table border=\"1\" class=\"dataframe\">\n",
       "  <thead>\n",
       "    <tr style=\"text-align: right;\">\n",
       "      <th></th>\n",
       "      <th>RMSE Mean</th>\n",
       "      <th>RMSE Std</th>\n",
       "      <th>MAE Mean</th>\n",
       "      <th>MAE Std</th>\n",
       "      <th>Fit Time Mean</th>\n",
       "      <th>Test Time Mean</th>\n",
       "    </tr>\n",
       "  </thead>\n",
       "  <tbody>\n",
       "    <tr>\n",
       "      <th>SVD</th>\n",
       "      <td>0.872021</td>\n",
       "      <td>0.001435</td>\n",
       "      <td>0.665631</td>\n",
       "      <td>0.001217</td>\n",
       "      <td>12.579790</td>\n",
       "      <td>0.553082</td>\n",
       "    </tr>\n",
       "    <tr>\n",
       "      <th>NMF</th>\n",
       "      <td>0.858880</td>\n",
       "      <td>0.001492</td>\n",
       "      <td>0.660701</td>\n",
       "      <td>0.000927</td>\n",
       "      <td>7.154363</td>\n",
       "      <td>0.653158</td>\n",
       "    </tr>\n",
       "    <tr>\n",
       "      <th>Co Clustering</th>\n",
       "      <td>0.891998</td>\n",
       "      <td>0.002347</td>\n",
       "      <td>0.692454</td>\n",
       "      <td>0.001892</td>\n",
       "      <td>14.372373</td>\n",
       "      <td>0.558906</td>\n",
       "    </tr>\n",
       "    <tr>\n",
       "      <th>SlopeOne</th>\n",
       "      <td>0.868563</td>\n",
       "      <td>0.001614</td>\n",
       "      <td>0.664698</td>\n",
       "      <td>0.000726</td>\n",
       "      <td>3.468872</td>\n",
       "      <td>8.025618</td>\n",
       "    </tr>\n",
       "    <tr>\n",
       "      <th>KNN_Basic</th>\n",
       "      <td>0.903186</td>\n",
       "      <td>0.000846</td>\n",
       "      <td>0.691629</td>\n",
       "      <td>0.000424</td>\n",
       "      <td>3.228729</td>\n",
       "      <td>19.406445</td>\n",
       "    </tr>\n",
       "    <tr>\n",
       "      <th>KNN_Means</th>\n",
       "      <td>0.875670</td>\n",
       "      <td>0.001383</td>\n",
       "      <td>0.673818</td>\n",
       "      <td>0.000992</td>\n",
       "      <td>3.248076</td>\n",
       "      <td>20.123485</td>\n",
       "    </tr>\n",
       "    <tr>\n",
       "      <th>KNN_ZScore</th>\n",
       "      <td>0.874081</td>\n",
       "      <td>0.002329</td>\n",
       "      <td>0.669307</td>\n",
       "      <td>0.001325</td>\n",
       "      <td>3.346462</td>\n",
       "      <td>20.000993</td>\n",
       "    </tr>\n",
       "  </tbody>\n",
       "</table>\n",
       "</div>"
      ],
      "text/plain": [
       "               RMSE Mean  RMSE Std  MAE Mean   MAE Std  Fit Time Mean  \\\n",
       "SVD             0.872021  0.001435  0.665631  0.001217      12.579790   \n",
       "NMF             0.858880  0.001492  0.660701  0.000927       7.154363   \n",
       "Co Clustering   0.891998  0.002347  0.692454  0.001892      14.372373   \n",
       "SlopeOne        0.868563  0.001614  0.664698  0.000726       3.468872   \n",
       "KNN_Basic       0.903186  0.000846  0.691629  0.000424       3.228729   \n",
       "KNN_Means       0.875670  0.001383  0.673818  0.000992       3.248076   \n",
       "KNN_ZScore      0.874081  0.002329  0.669307  0.001325       3.346462   \n",
       "\n",
       "               Test Time Mean  \n",
       "SVD                  0.553082  \n",
       "NMF                  0.653158  \n",
       "Co Clustering        0.558906  \n",
       "SlopeOne             8.025618  \n",
       "KNN_Basic           19.406445  \n",
       "KNN_Means           20.123485  \n",
       "KNN_ZScore          20.000993  "
      ]
     },
     "execution_count": 157,
     "metadata": {},
     "output_type": "execute_result"
    }
   ],
   "source": [
    "result_5k_df = pd.DataFrame(results_5k, \n",
    "                         index=['SVD', 'NMF', 'Co Clustering', 'SlopeOne', 'KNN_Basic', 'KNN_Means', 'KNN_ZScore'],\n",
    "                         columns=['RMSE Mean','RMSE Std', 'MAE Mean','MAE Std', 'Fit Time Mean','Test Time Mean'])\n",
    "\n",
    "print ('\\n\\t\\tThe results from evaluating\\033[1m 10k Movies for only 5k users\\033[0;0m\\n')\n",
    "\n",
    "result_5k_df"
   ]
  },
  {
   "cell_type": "code",
   "execution_count": null,
   "metadata": {},
   "outputs": [],
   "source": []
  },
  {
   "cell_type": "code",
   "execution_count": null,
   "metadata": {},
   "outputs": [],
   "source": []
  }
 ],
 "metadata": {
  "kernelspec": {
   "display_name": "Python 3 (ipykernel)",
   "language": "python",
   "name": "python3"
  },
  "language_info": {
   "codemirror_mode": {
    "name": "ipython",
    "version": 3
   },
   "file_extension": ".py",
   "mimetype": "text/x-python",
   "name": "python",
   "nbconvert_exporter": "python",
   "pygments_lexer": "ipython3",
   "version": "3.10.14"
  }
 },
 "nbformat": 4,
 "nbformat_minor": 4
}
